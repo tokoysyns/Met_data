{
 "cells": [
  {
   "cell_type": "code",
   "execution_count": null,
   "metadata": {},
   "outputs": [],
   "source": [
    "%matplotlib inline"
   ]
  },
  {
   "cell_type": "markdown",
   "metadata": {},
   "source": [
    "\n",
    "# xarray with MetPy Tutorial\n",
    "\n",
    "[xarray](https://docs.xarray.dev/en/stable/) is a powerful Python package that provides\n",
    "N-dimensional labeled arrays and datasets following the Common Data Model. MetPy's suite of\n",
    "meteorological calculations are designed to integrate with xarray DataArrays as one of its two\n",
    "primary data models (the other being Pint Quantities). MetPy also provides DataArray and\n",
    "Dataset *accessors* (collections of methods and properties attached to the ``.metpy`` property)\n",
    "for coordinate/CRS and unit operations.\n",
    "\n",
    "Full information on MetPy's accessors is available in the :doc:`appropriate section of the\n",
    "reference guide </api/generated/metpy.xarray>`, otherwise, continue on in this\n",
    "tutorial for a demonstration of the three main components of MetPy's integration with xarray\n",
    "(coordinates/coordinate reference systems, units, and calculations), as well as instructive\n",
    "examples for both CF-compliant and non-compliant datasets.\n",
    "\n",
    "First, some general imports...\n"
   ]
  },
  {
   "cell_type": "code",
   "execution_count": null,
   "metadata": {},
   "outputs": [],
   "source": [
    "import numpy as np\n",
    "import xarray as xr\n",
    "\n",
    "# Any import of metpy will activate the accessors\n",
    "import metpy.calc as mpcalc\n",
    "from metpy.cbook import get_test_data\n",
    "from metpy.units import units"
   ]
  },
  {
   "cell_type": "markdown",
   "metadata": {},
   "source": [
    "...and opening some sample data to work with.\n",
    "\n"
   ]
  },
  {
   "cell_type": "code",
   "execution_count": null,
   "metadata": {},
   "outputs": [],
   "source": [
    "# Open the netCDF file as a xarray Dataset\n",
    "data = xr.open_dataset(get_test_data('irma_gfs_example.nc', False))\n",
    "\n",
    "# View a summary of the Dataset\n",
    "data"
   ]
  },
  {
   "cell_type": "markdown",
   "metadata": {},
   "source": [
    "While xarray can handle a wide variety of n-dimensional data (essentially anything that can\n",
    "be stored in a netCDF file), a common use case is working with gridded model output. Such\n",
    "model data can be obtained from a THREDDS Data Server using the [siphon package](https://unidata.github.io/siphon/), but here we've used an example subset of GFS data\n",
    "from Hurricane Irma (September 5th, 2017) included in MetPy's test suite. Generally,\n",
    "a local file (or remote file via OPeNDAP) can be opened with ``xr.open_dataset(\"path\")``.\n",
    "\n",
    "Going back to the above object, this ``Dataset`` consists of *dimensions* and their\n",
    "associated *coordinates*, which in turn make up the axes along which the *data variables*\n",
    "are defined. The dataset also has a dictionary-like collection of *attributes*. What happens\n",
    "if we look at just a single data variable?\n",
    "\n"
   ]
  },
  {
   "cell_type": "code",
   "execution_count": null,
   "metadata": {},
   "outputs": [],
   "source": [
    "temperature = data['Temperature_isobaric']\n",
    "temperature"
   ]
  },
  {
   "cell_type": "code",
   "execution_count": null,
   "metadata": {},
   "outputs": [],
   "source": [
    "temperature.metpy.time"
   ]
  },
  {
   "cell_type": "markdown",
   "metadata": {},
   "source": [
    "When accessing multiple coordinate types simultaneously, you can use the ``.coordinates()``\n",
    "method to yield a generator for the respective coordinates\n",
    "\n"
   ]
  },
  {
   "cell_type": "markdown",
   "metadata": {},
   "source": [
    "This is a ``DataArray``, which stores just a single data variable with its associated\n",
    "coordinates and attributes. These individual ``DataArray``\\s are the kinds of objects that\n",
    "MetPy's calculations take as input (more on that in  `Calculations`_ section below).\n",
    "\n",
    "If you are more interested in learning about xarray's terminology and data structures, see\n",
    "the [terminology section](https://docs.xarray.dev/en/stable/terminology.html) of xarray's\n",
    "documentation.\n",
    "\n",
    "## Coordinates and Coordinate Reference Systems\n",
    "\n",
    "MetPy's first set of helpers comes with identifying *coordinate types*. In a given dataset,\n",
    "coordinates can have a variety of different names and yet refer to the same type (such as\n",
    "\"isobaric1\" and \"isobaric3\" both referring to vertical isobaric coordinates). Following\n",
    "CF conventions, as well as using some fall-back regular expressions, MetPy can\n",
    "systematically identify coordinates of the following types:\n",
    "\n",
    "- time\n",
    "- vertical\n",
    "- latitude\n",
    "- y\n",
    "- longitude\n",
    "- x\n",
    "\n",
    "When identifying a single coordinate, it is best to use the property directly associated\n",
    "with that type\n",
    "\n"
   ]
  },
  {
   "cell_type": "code",
   "execution_count": null,
   "metadata": {},
   "outputs": [],
   "source": [
    "x, y = temperature.metpy.coordinates('x', 'y')"
   ]
  },
  {
   "cell_type": "markdown",
   "metadata": {},
   "source": [
    "These coordinate type aliases can also be used in MetPy's wrapped ``.sel`` and ``.loc``\n",
    "for indexing and selecting on ``DataArray``\\s. For example, to access 500 hPa heights at\n",
    "1800Z,\n",
    "\n"
   ]
  },
  {
   "cell_type": "code",
   "execution_count": null,
   "metadata": {},
   "outputs": [],
   "source": [
    "heights = data['Geopotential_height_isobaric'].metpy.sel(\n",
    "    time='2017-09-05 18:00',\n",
    "    vertical=50000.\n",
    ")"
   ]
  },
  {
   "cell_type": "markdown",
   "metadata": {},
   "source": [
    "(Notice how we specified 50000 here without units...we'll go over a better alternative in\n",
    "the next section on units.)\n",
    "\n",
    "One point of warning: xarray's selection and indexing only works if these coordinates are\n",
    "*dimension coordinates*, meaning that they are 1D and share the name of their associated\n",
    "dimension. In practice, this means that you can't index a dataset that has 2D latitude and\n",
    "longitude coordinates by latitudes and longitudes, instead, you must index by the 1D y and x\n",
    "dimension coordinates. (What if these coordinates are missing, you may ask? See the final\n",
    "subsection on ``.assign_y_x`` for more details.)\n",
    "\n",
    "Beyond just the coordinates themselves, a common need for both calculations with and plots\n",
    "of geospatial data is knowing the coordinate reference system (CRS) on which the horizontal\n",
    "spatial coordinates are defined. MetPy follows the [CF Conventions](http://cfconventions.org/Data/cf-conventions/cf-conventions-1.8/cf-conventions.html#grid-mappings-and-projections)\n",
    "for its CRS definitions, which it then caches on the ``metpy_crs`` coordinate in order for\n",
    "it to persist through calculations and other array operations. There are two ways to do so\n",
    "in MetPy:\n",
    "\n",
    "First, if your dataset is already conforming to the CF Conventions, it will have a grid\n",
    "mapping variable that is associated with the other data variables by the ``grid_mapping``\n",
    "attribute. This is automatically parsed via the ``.parse_cf()`` method:\n",
    "\n"
   ]
  },
  {
   "cell_type": "code",
   "execution_count": null,
   "metadata": {},
   "outputs": [],
   "source": [
    "# Parse full dataset\n",
    "data_parsed = data.metpy.parse_cf()\n",
    "\n",
    "# Parse subset of dataset\n",
    "data_subset = data.metpy.parse_cf([\n",
    "    'u-component_of_wind_isobaric',\n",
    "    'v-component_of_wind_isobaric',\n",
    "    'Vertical_velocity_pressure_isobaric'\n",
    "])\n",
    "\n",
    "# Parse single variable\n",
    "relative_humidity = data.metpy.parse_cf('Relative_humidity_isobaric')"
   ]
  },
  {
   "cell_type": "markdown",
   "metadata": {},
   "source": [
    "If your dataset doesn't have a CF-conforming grid mapping variable, you can manually specify\n",
    "the CRS using the ``.assign_crs()`` method:\n",
    "\n"
   ]
  },
  {
   "cell_type": "code",
   "execution_count": null,
   "metadata": {},
   "outputs": [],
   "source": [
    "temperature = data['Temperature_isobaric'].metpy.assign_crs(\n",
    "    grid_mapping_name='latitude_longitude',\n",
    "    earth_radius=6371229.0\n",
    ")\n",
    "\n",
    "temperature"
   ]
  },
  {
   "cell_type": "markdown",
   "metadata": {},
   "source": [
    "Notice the newly added ``metpy_crs`` non-dimension coordinate. Now how can we use this in\n",
    "practice? For individual ``DataArrays``\\s, we can access the cartopy and pyproj objects\n",
    "corresponding to this CRS:\n",
    "\n"
   ]
  },
  {
   "cell_type": "code",
   "execution_count": null,
   "metadata": {},
   "outputs": [],
   "source": [
    "# Cartopy CRS, useful for plotting\n",
    "relative_humidity.metpy.cartopy_crs"
   ]
  },
  {
   "cell_type": "code",
   "execution_count": null,
   "metadata": {},
   "outputs": [],
   "source": [
    "# pyproj CRS, useful for projection transformations and forward/backward azimuth and great\n",
    "# circle calculations\n",
    "temperature.metpy.pyproj_crs"
   ]
  },
  {
   "cell_type": "markdown",
   "metadata": {},
   "source": [
    "Finally, there are times when a certain horizontal coordinate type is missing from your\n",
    "dataset, and you need the other, that is, you have latitude/longitude and need y/x, or visa\n",
    "versa. This is where the ``.assign_y_x`` and ``.assign_latitude_longitude`` methods come in\n",
    "handy. Our current GFS sample won't work to demonstrate this (since, on its\n",
    "latitude-longitude grid, y is latitude and x is longitude), so for more information, take\n",
    "a look at the `Non-Compliant Dataset Example`_ below, or view the accessor documentation.\n",
    "\n"
   ]
  },
  {
   "cell_type": "markdown",
   "metadata": {},
   "source": [
    "## Units\n",
    "\n",
    "Since unit-aware calculations are a major part of the MetPy library, unit support is a major\n",
    "part of MetPy's xarray integration!\n",
    "\n",
    "One very important point of consideration is that xarray data variables (in both\n",
    "``Dataset``\\s and ``DataArray``\\s) can store both unit-aware and unit-naive array types.\n",
    "Unit-naive array types will be used by default in xarray, so we need to convert to a\n",
    "unit-aware type if we want to use xarray operations while preserving unit correctness. MetPy\n",
    "provides the ``.quantify()`` method for this (named since we are turning the data stored\n",
    "inside the xarray object into a Pint ``Quantity`` object)\n",
    "\n"
   ]
  },
  {
   "cell_type": "code",
   "execution_count": null,
   "metadata": {},
   "outputs": [],
   "source": [
    "heights = heights.metpy.quantify()\n",
    "heights"
   ]
  },
  {
   "cell_type": "markdown",
   "metadata": {},
   "source": [
    "Notice how the units are now represented in the data itself, rather than as a text\n",
    "attribute. Now, even if we perform some kind of xarray operation (such as taking the zonal\n",
    "mean), the units are preserved\n",
    "\n"
   ]
  },
  {
   "cell_type": "code",
   "execution_count": null,
   "metadata": {},
   "outputs": [],
   "source": [
    "heights_mean = heights.mean('longitude')\n",
    "heights_mean"
   ]
  },
  {
   "cell_type": "markdown",
   "metadata": {},
   "source": [
    "However, this \"quantification\" is not without its consequences. By default, xarray loads its\n",
    "data lazily to conserve memory usage. Unless your data is chunked into a Dask array (using\n",
    "the ``chunks`` argument), this ``.quantify()`` method will load data into memory, which\n",
    "could slow your script or even cause your process to run out of memory. And so, we recommend\n",
    "subsetting your data before quantifying it.\n",
    "\n",
    "Also, these Pint ``Quantity`` data objects are not properly handled by xarray when writing\n",
    "to disk. And so, if you want to safely export your data, you will need to undo the\n",
    "quantification with the ``.dequantify()`` method, which converts your data back to a\n",
    "unit-naive array with the unit as a text attribute\n",
    "\n"
   ]
  },
  {
   "cell_type": "code",
   "execution_count": null,
   "metadata": {},
   "outputs": [],
   "source": [
    "heights_mean_str_units = heights_mean.metpy.dequantify()\n",
    "heights_mean_str_units"
   ]
  },
  {
   "cell_type": "markdown",
   "metadata": {},
   "source": [
    "Other useful unit integration features include:\n",
    "\n",
    "Unit-based selection/indexing:\n",
    "\n"
   ]
  },
  {
   "cell_type": "code",
   "execution_count": null,
   "metadata": {},
   "outputs": [],
   "source": [
    "heights_at_45_north = data['Geopotential_height_isobaric'].metpy.sel(\n",
    "    latitude=45 * units.degrees_north,\n",
    "    vertical=300 * units.hPa\n",
    ")\n",
    "heights_at_45_north"
   ]
  },
  {
   "cell_type": "markdown",
   "metadata": {},
   "source": [
    "Unit conversion:\n",
    "\n"
   ]
  },
  {
   "cell_type": "code",
   "execution_count": null,
   "metadata": {},
   "outputs": [],
   "source": [
    "temperature_degc = temperature[0].metpy.convert_units('degC')\n",
    "temperature_degc"
   ]
  },
  {
   "cell_type": "markdown",
   "metadata": {},
   "source": [
    "To base unit conversion:\n",
    "\n"
   ]
  },
  {
   "cell_type": "code",
   "execution_count": null,
   "metadata": {
    "scrolled": true
   },
   "outputs": [],
   "source": [
    "temperature_degk = temperature_degc.metpy.convert_to_base_units()\n",
    "temperature_degk"
   ]
  },
  {
   "cell_type": "markdown",
   "metadata": {},
   "source": [
    "Unit conversion for coordinates:\n",
    "\n"
   ]
  },
  {
   "cell_type": "code",
   "execution_count": null,
   "metadata": {},
   "outputs": [],
   "source": [
    "heights_on_hpa_levels = heights.metpy.convert_coordinate_units('isobaric3', 'hPa')\n",
    "heights_on_hpa_levels['isobaric3']"
   ]
  },
  {
   "cell_type": "markdown",
   "metadata": {},
   "source": [
    "Accessing just the underlying unit array:\n",
    "\n"
   ]
  },
  {
   "cell_type": "code",
   "execution_count": null,
   "metadata": {},
   "outputs": [],
   "source": [
    "heights_unit_array = heights.metpy.unit_array\n",
    "heights_unit_array"
   ]
  },
  {
   "cell_type": "markdown",
   "metadata": {},
   "source": [
    "Accessing just the underlying units:\n",
    "\n"
   ]
  },
  {
   "cell_type": "code",
   "execution_count": null,
   "metadata": {},
   "outputs": [],
   "source": [
    "height_units = heights.metpy.units\n",
    "height_units"
   ]
  },
  {
   "cell_type": "markdown",
   "metadata": {},
   "source": [
    "## Calculations\n",
    "\n",
    "MetPy's xarray integration extends to its calculation suite as well. Most grid-capable\n",
    "calculations (such as thermodynamics, kinematics, and smoothers) fully support xarray\n",
    "``DataArray``\\s by accepting them as inputs, returning them as outputs, and automatically\n",
    "using the attached coordinate data/metadata to determine grid arguments\n",
    "\n"
   ]
  },
  {
   "cell_type": "code",
   "execution_count": null,
   "metadata": {},
   "outputs": [],
   "source": [
    "heights = data_parsed.metpy.parse_cf('Geopotential_height_isobaric').metpy.sel(\n",
    "    time='2017-09-05 18:00',\n",
    "    vertical=500 * units.hPa\n",
    ")\n",
    "u_g, v_g = mpcalc.geostrophic_wind(heights)\n",
    "u_g"
   ]
  },
  {
   "cell_type": "markdown",
   "metadata": {},
   "source": [
    "For profile-based calculations (and most remaining calculations in the ``metpy.calc``\n",
    "module), xarray ``DataArray``\\s are accepted as inputs, but the outputs remain Pint\n",
    "Quantities (typically scalars). Note that MetPy's profile calculations (such as CAPE and\n",
    "CIN) require the sounding to be ordered from highest to lowest pressure. As seen earlier\n",
    "in this tutorial, this data is ordered the other way, so we need to reverse the inputs\n",
    "to ``mpcalc.surface_based_cape_cin``.\n",
    "\n"
   ]
  },
  {
   "cell_type": "code",
   "execution_count": null,
   "metadata": {},
   "outputs": [],
   "source": [
    "data_at_point = data.metpy.sel(\n",
    "    time1='2017-09-05 12:00',\n",
    "    latitude=30 * units.degrees_north,\n",
    "    longitude=260 * units.degrees_east\n",
    ")\n",
    "dewpoint = mpcalc.dewpoint_from_relative_humidity(\n",
    "    data_at_point['Temperature_isobaric'],\n",
    "    data_at_point['Relative_humidity_isobaric']\n",
    ")\n",
    "cape, cin = mpcalc.surface_based_cape_cin(\n",
    "    data_at_point['isobaric3'][::-1],\n",
    "    data_at_point['Temperature_isobaric'][::-1],\n",
    "    dewpoint[::-1]\n",
    ")\n",
    "cape"
   ]
  },
  {
   "cell_type": "markdown",
   "metadata": {},
   "source": [
    "A few remaining portions of MetPy's calculations (mainly the interpolation module and a few\n",
    "other functions) do not fully support xarray, and so, use of ``.values`` may be needed to\n",
    "convert to a bare NumPy array. For full information on xarray support for your function of\n",
    "interest, see the :doc:`/api/index`.\n",
    "\n",
    "## CF-Compliant Dataset Example\n",
    "\n",
    "The GFS sample used throughout this tutorial so far has been an example of a CF-compliant\n",
    "dataset. These kinds of datasets are easiest to work with it MetPy, since most of the\n",
    "\"xarray magic\" uses CF metadata. For this kind of dataset, a typical workflow looks like the\n",
    "following\n",
    "\n"
   ]
  },
  {
   "cell_type": "code",
   "execution_count": null,
   "metadata": {},
   "outputs": [],
   "source": [
    "# Load data, parse it for a CF grid mapping, and promote lat/lon data variables to coordinates\n",
    "data = xr.open_dataset(\n",
    "    get_test_data('narr_example.nc', False)\n",
    ").metpy.parse_cf().set_coords(['lat', 'lon'])\n",
    "\n",
    "# Subset to only the data you need to save on memory usage\n",
    "subset = data.metpy.sel(isobaric=500 * units.hPa)\n",
    "\n",
    "# Quantify if you plan on performing xarray operations that need to maintain unit correctness\n",
    "subset = subset.metpy.quantify()\n",
    "\n",
    "# Perform calculations\n",
    "heights = mpcalc.smooth_gaussian(subset['Geopotential_height'], 5)\n",
    "subset['u_geo'], subset['v_geo'] = mpcalc.geostrophic_wind(heights)\n",
    "\n",
    "# Plot\n",
    "heights.plot()"
   ]
  },
  {
   "cell_type": "code",
   "execution_count": null,
   "metadata": {},
   "outputs": [],
   "source": [
    "# Save output\n",
    "subset.metpy.dequantify().drop_vars('metpy_crs').to_netcdf('500hPa_analysis.nc')"
   ]
  },
  {
   "cell_type": "markdown",
   "metadata": {},
   "source": [
    "## Non-Compliant Dataset Example\n",
    "\n",
    "When CF metadata (such as grid mapping, coordinate attributes, etc.) are missing, a bit more\n",
    "work is required to manually supply the required information, for example,\n",
    "\n"
   ]
  },
  {
   "cell_type": "code",
   "execution_count": null,
   "metadata": {},
   "outputs": [],
   "source": [
    "nonstandard = xr.Dataset({\n",
    "    'temperature': (('y', 'x'), np.arange(0, 9).reshape(3, 3) * units.degC),\n",
    "    'y': ('y', np.arange(0, 3) * 1e5, {'units': 'km'}),\n",
    "    'x': ('x', np.arange(0, 3) * 1e5, {'units': 'km'})\n",
    "})\n",
    "\n",
    "# Add both CRS and then lat/lon coords using chained methods\n",
    "data = nonstandard.metpy.assign_crs(\n",
    "    grid_mapping_name='lambert_conformal_conic',\n",
    "    latitude_of_projection_origin=38.5,\n",
    "    longitude_of_central_meridian=262.5,\n",
    "    standard_parallel=38.5,\n",
    "    earth_radius=6371229.0\n",
    ").metpy.assign_latitude_longitude()\n",
    "\n",
    "# Preview the changes\n",
    "data"
   ]
  },
  {
   "cell_type": "markdown",
   "metadata": {},
   "source": [
    "Once the CRS and additional coordinates are assigned, you can generally proceed as you would\n",
    "for a CF-compliant dataset.\n",
    "\n",
    "## What Could Go Wrong?\n",
    "\n",
    "Depending on your dataset and what you are trying to do, you might run into problems with\n",
    "xarray and MetPy. Below are examples of some of the most common issues\n",
    "\n",
    "- Multiple coordinate conflict\n",
    "- An axis not being available\n",
    "- An axis not being interpretable\n",
    "- ``UndefinedUnitError``\n",
    "\n",
    "**Coordinate Conflict**\n",
    "\n",
    "Code:\n",
    "\n",
    "::\n",
    "\n",
    "    x = data['Temperature'].metpy.x\n",
    "\n",
    "Error Message:\n",
    "\n",
    "::\n",
    "\n",
    "    /home/user/env/MetPy/metpy/xarray.py:305: UserWarning: More than\n",
    "    one x coordinate present for variable \"Temperature\".\n",
    "\n",
    "Fix:\n",
    "\n",
    "Manually assign the coordinates using the ``assign_coordinates()`` method on your DataArray,\n",
    "or by specifying the ``coordinates`` argument to the ``parse_cf()`` method on your Dataset,\n",
    "to map the ``time``, ``vertical``, ``y``, ``latitude``, ``x``, and ``longitude`` axes (as\n",
    "applicable to your data) to the corresponding coordinates.\n",
    "\n",
    "::\n",
    "\n",
    "    data['Temperature'].assign_coordinates({'time': 'time', 'vertical': 'isobaric',\n",
    "                                            'y': 'y', 'x': 'x'})\n",
    "    x = data['Temperature'].metpy.x\n",
    "\n",
    "or\n",
    "\n",
    "::\n",
    "\n",
    "    temperature = data.metpy.parse_cf('Temperature',\n",
    "                                      coordinates={'time': 'time', 'vertical': 'isobaric',\n",
    "                                                   'y': 'y', 'x': 'x'})\n",
    "    x = temperature.metpy.x\n",
    "\n",
    "**Axis Unavailable**\n",
    "\n",
    "Code:\n",
    "\n",
    "::\n",
    "\n",
    "    data['Temperature'].metpy.vertical\n",
    "\n",
    "Error Message:\n",
    "\n",
    "::\n",
    "\n",
    "    AttributeError: vertical attribute is not available.\n",
    "\n",
    "This means that your data variable does not have the coordinate that was requested, at\n",
    "least as far as the parser can recognize. Verify that you are requesting a\n",
    "coordinate that your data actually has, and if it still is not available,\n",
    "you will need to manually specify the coordinates as discussed above.\n",
    "\n",
    "**Axis Not Interpretable**\n",
    "\n",
    "Code:\n",
    "\n",
    "::\n",
    "\n",
    "    x, y, ensemble = data['Temperature'].metpy.coordinates('x', 'y', 'ensemble')\n",
    "\n",
    "Error Message:\n",
    "\n",
    "::\n",
    "\n",
    "    AttributeError: 'ensemble' is not an interpretable axis\n",
    "\n",
    "This means that you are requesting a coordinate that MetPy is (currently) unable to parse.\n",
    "While this means it cannot be recognized automatically, you can still obtain your desired\n",
    "coordinate directly by accessing it by name. If you have a need for systematic\n",
    "identification of a new coordinate type, we welcome pull requests for such new functionality\n",
    "on GitHub!\n",
    "\n",
    "**Undefined Unit Error**\n",
    "\n",
    "If the units attribute on your xarray data is not recognizable by Pint, you will likely\n",
    "receive an ``UndefinedUnitError``. In this case, you will likely have to update the units\n",
    "attribute to one that can be parsed properly by Pint. It is our aim to have all valid\n",
    "CF/UDUNITS unit strings be parseable, but this work is ongoing. If many variables in your\n",
    "dataset are not parseable, the ``.update_attribute`` method on the MetPy accessor may come\n",
    "in handy.\n",
    "\n"
   ]
  }
 ],
 "metadata": {
  "kernelspec": {
   "display_name": "Python 3 (ipykernel)",
   "language": "python",
   "name": "python3"
  },
  "language_info": {
   "codemirror_mode": {
    "name": "ipython",
    "version": 3
   },
   "file_extension": ".py",
   "mimetype": "text/x-python",
   "name": "python",
   "nbconvert_exporter": "python",
   "pygments_lexer": "ipython3",
   "version": "3.9.16"
  }
 },
 "nbformat": 4,
 "nbformat_minor": 1
}
